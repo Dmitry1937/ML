{
 "cells": [
  {
   "cell_type": "markdown",
   "metadata": {
    "colab_type": "text",
    "id": "BBv-oIFLVYRz"
   },
   "source": [
    "**Description of work:**\n",
    "&nbsp;&nbsp;&nbsp;&nbsp;\n",
    "<br><br>\n",
    "Predict behavior to retain customers.\n",
    " You need analyze all relevant customer data and predict churn.\n",
    "_________\n",
    "\n",
    "[Codebook](#Codebook) <br>\n",
    "[1. Data Description](#1.-Data-Description)<br>\n",
    "[2. Exploring dependencies and formulating hypotheses](#2.-Exploring-dependencies-and-formulating-hypotheses)<br>\n",
    "[3. Building Models to Predict Churn](#3.-Building-Models-to-Predict-Churn)<br>\n",
    "[4. Model Quality Comparison in Test Data](#4.-Model-Quality-Comparison-in-Test-Data) <br>\n"
   ]
  },
  {
   "cell_type": "markdown",
   "metadata": {
    "colab_type": "text",
    "id": "uZY64JwzVYR6"
   },
   "source": [
    "## Codebook\n",
    "<br>\n",
    "\n",
    "`telecom_users.csv` - contains the following values:<br><br>\n",
    "\n",
    "&nbsp;&nbsp;&nbsp;&nbsp; `customerID` – Customer ID<br>\n",
    "&nbsp;&nbsp;&nbsp;&nbsp; `gender` – Whether the customer is a male or a female<br>\n",
    "&nbsp;&nbsp;&nbsp;&nbsp; `SeniorCitizen` – Whether the customer is a senior citizen or not (1, 0)<br>\n",
    "&nbsp;&nbsp;&nbsp;&nbsp; `Partner` – Whether the customer has a partner or not (Yes, No)<br>\n",
    "&nbsp;&nbsp;&nbsp;&nbsp; `Dependents` – Whether the customer has dependents or not (Yes, No)<br>\n",
    "&nbsp;&nbsp;&nbsp;&nbsp; `tenure` – Number of months the customer has stayed with the company<br>\n",
    "&nbsp;&nbsp;&nbsp;&nbsp; `PhoneService` – Whether the customer has a phone service or not (Yes, No)<br>\n",
    "&nbsp;&nbsp;&nbsp;&nbsp; `MultipleLines` – Whether the customer has multiple lines or not (Yes, No, No phone service)<br>\n",
    "&nbsp;&nbsp;&nbsp;&nbsp; `InternetService` – Customer’s internet service provider (DSL, Fiber optic, No)<br>\n",
    "&nbsp;&nbsp;&nbsp;&nbsp; `OnlineSecurity` – Whether the customer has online security or not (Yes, No, No internet service)<br>\n",
    "&nbsp;&nbsp;&nbsp;&nbsp; `OnlineBackup` – Whether the customer has online backup or not (Yes, No, No internet service)<br>\n",
    "&nbsp;&nbsp;&nbsp;&nbsp; `DeviceProtection` – Whether the customer has device protection or not (Yes, No, No internet service)<br>\n",
    "&nbsp;&nbsp;&nbsp;&nbsp; `TechSupport` – Whether the customer has tech support or not (Yes, No, No internet service)<br>\n",
    "&nbsp;&nbsp;&nbsp;&nbsp; `StreamingTV` – Whether the customer has streaming TV or not (Yes, No, No internet service)<br>\n",
    "&nbsp;&nbsp;&nbsp;&nbsp; `StreamingMovies` – Whether the customer has streaming movies or not (Yes, No, No internet service)<br>\n",
    "&nbsp;&nbsp;&nbsp;&nbsp; `Contract` – The contract term of the customer (Month-to-month, One year, Two year)<br>\n",
    "&nbsp;&nbsp;&nbsp;&nbsp; `PaperlessBilling` – Whether the customer has paperless billing or not (Yes, No)<br>\n",
    "&nbsp;&nbsp;&nbsp;&nbsp; `PaymentMethod` – The customer’s payment method (Electronic check, Mailed check, Bank transfer (automatic), Credit card (automatic))<br>\n",
    "&nbsp;&nbsp;&nbsp;&nbsp; `MonthlyCharges` – The amount charged to the customer monthly<br>\n",
    "&nbsp;&nbsp;&nbsp;&nbsp; `TotalCharges` – The total amount charged to the customer<br>\n",
    "&nbsp;&nbsp;&nbsp;&nbsp; `Churn` – Whether the customer churned or not (Yes or No)<br>"
   ]
  },
  {
   "cell_type": "markdown",
   "metadata": {
    "colab_type": "text",
    "id": "sIRCLuWGVYR9"
   },
   "source": [
    "# 1. Data Description"
   ]
  },
  {
   "cell_type": "code",
   "execution_count": 1,
   "metadata": {},
   "outputs": [],
   "source": [
    "#Importing  the necessary libraries\n",
    "import pandas as pd\n",
    "import numpy as np\n",
    "from sklearn import preprocessing\n",
    "from sklearn.metrics import precision_score\n",
    "import matplotlib.pyplot as plt"
   ]
  },
  {
   "cell_type": "code",
   "execution_count": 2,
   "metadata": {
    "colab": {},
    "colab_type": "code",
    "id": "s0fDRVkgVYSA"
   },
   "outputs": [
    {
     "data": {
      "text/html": [
       "<div>\n",
       "<style scoped>\n",
       "    .dataframe tbody tr th:only-of-type {\n",
       "        vertical-align: middle;\n",
       "    }\n",
       "\n",
       "    .dataframe tbody tr th {\n",
       "        vertical-align: top;\n",
       "    }\n",
       "\n",
       "    .dataframe thead th {\n",
       "        text-align: right;\n",
       "    }\n",
       "</style>\n",
       "<table border=\"1\" class=\"dataframe\">\n",
       "  <thead>\n",
       "    <tr style=\"text-align: right;\">\n",
       "      <th></th>\n",
       "      <th>index</th>\n",
       "      <th>gender</th>\n",
       "      <th>SeniorCitizen</th>\n",
       "      <th>Partner</th>\n",
       "      <th>Dependents</th>\n",
       "      <th>tenure</th>\n",
       "      <th>PhoneService</th>\n",
       "      <th>MultipleLines</th>\n",
       "      <th>InternetService</th>\n",
       "      <th>OnlineSecurity</th>\n",
       "      <th>OnlineBackup</th>\n",
       "      <th>DeviceProtection</th>\n",
       "      <th>TechSupport</th>\n",
       "      <th>StreamingTV</th>\n",
       "      <th>StreamingMovies</th>\n",
       "      <th>Contract</th>\n",
       "      <th>PaperlessBilling</th>\n",
       "      <th>PaymentMethod</th>\n",
       "      <th>MonthlyCharges</th>\n",
       "      <th>TotalCharges</th>\n",
       "    </tr>\n",
       "  </thead>\n",
       "  <tbody>\n",
       "    <tr>\n",
       "      <th>5981</th>\n",
       "      <td>7038</td>\n",
       "      <td>Male</td>\n",
       "      <td>0</td>\n",
       "      <td>Yes</td>\n",
       "      <td>Yes</td>\n",
       "      <td>24</td>\n",
       "      <td>Yes</td>\n",
       "      <td>Yes</td>\n",
       "      <td>DSL</td>\n",
       "      <td>Yes</td>\n",
       "      <td>No</td>\n",
       "      <td>Yes</td>\n",
       "      <td>Yes</td>\n",
       "      <td>Yes</td>\n",
       "      <td>Yes</td>\n",
       "      <td>One year</td>\n",
       "      <td>Yes</td>\n",
       "      <td>Mailed check</td>\n",
       "      <td>84.80</td>\n",
       "      <td>1990.50</td>\n",
       "    </tr>\n",
       "    <tr>\n",
       "      <th>5982</th>\n",
       "      <td>7039</td>\n",
       "      <td>Female</td>\n",
       "      <td>0</td>\n",
       "      <td>Yes</td>\n",
       "      <td>Yes</td>\n",
       "      <td>72</td>\n",
       "      <td>Yes</td>\n",
       "      <td>Yes</td>\n",
       "      <td>Fiber optic</td>\n",
       "      <td>No</td>\n",
       "      <td>Yes</td>\n",
       "      <td>Yes</td>\n",
       "      <td>No</td>\n",
       "      <td>Yes</td>\n",
       "      <td>Yes</td>\n",
       "      <td>One year</td>\n",
       "      <td>Yes</td>\n",
       "      <td>Credit card (automatic)</td>\n",
       "      <td>103.20</td>\n",
       "      <td>7362.90</td>\n",
       "    </tr>\n",
       "    <tr>\n",
       "      <th>5983</th>\n",
       "      <td>7040</td>\n",
       "      <td>Female</td>\n",
       "      <td>0</td>\n",
       "      <td>Yes</td>\n",
       "      <td>Yes</td>\n",
       "      <td>11</td>\n",
       "      <td>No</td>\n",
       "      <td>No phone service</td>\n",
       "      <td>DSL</td>\n",
       "      <td>Yes</td>\n",
       "      <td>No</td>\n",
       "      <td>No</td>\n",
       "      <td>No</td>\n",
       "      <td>No</td>\n",
       "      <td>No</td>\n",
       "      <td>Month-to-month</td>\n",
       "      <td>Yes</td>\n",
       "      <td>Electronic check</td>\n",
       "      <td>29.60</td>\n",
       "      <td>346.45</td>\n",
       "    </tr>\n",
       "    <tr>\n",
       "      <th>5984</th>\n",
       "      <td>7041</td>\n",
       "      <td>Male</td>\n",
       "      <td>1</td>\n",
       "      <td>Yes</td>\n",
       "      <td>No</td>\n",
       "      <td>4</td>\n",
       "      <td>Yes</td>\n",
       "      <td>Yes</td>\n",
       "      <td>Fiber optic</td>\n",
       "      <td>No</td>\n",
       "      <td>No</td>\n",
       "      <td>No</td>\n",
       "      <td>No</td>\n",
       "      <td>No</td>\n",
       "      <td>No</td>\n",
       "      <td>Month-to-month</td>\n",
       "      <td>Yes</td>\n",
       "      <td>Mailed check</td>\n",
       "      <td>74.40</td>\n",
       "      <td>306.60</td>\n",
       "    </tr>\n",
       "    <tr>\n",
       "      <th>5985</th>\n",
       "      <td>7042</td>\n",
       "      <td>Male</td>\n",
       "      <td>0</td>\n",
       "      <td>No</td>\n",
       "      <td>No</td>\n",
       "      <td>66</td>\n",
       "      <td>Yes</td>\n",
       "      <td>No</td>\n",
       "      <td>Fiber optic</td>\n",
       "      <td>Yes</td>\n",
       "      <td>No</td>\n",
       "      <td>Yes</td>\n",
       "      <td>Yes</td>\n",
       "      <td>Yes</td>\n",
       "      <td>Yes</td>\n",
       "      <td>Two year</td>\n",
       "      <td>Yes</td>\n",
       "      <td>Bank transfer (automatic)</td>\n",
       "      <td>105.65</td>\n",
       "      <td>6844.50</td>\n",
       "    </tr>\n",
       "  </tbody>\n",
       "</table>\n",
       "</div>"
      ],
      "text/plain": [
       "      index  gender  SeniorCitizen Partner Dependents  tenure PhoneService  \\\n",
       "5981   7038    Male              0     Yes        Yes      24          Yes   \n",
       "5982   7039  Female              0     Yes        Yes      72          Yes   \n",
       "5983   7040  Female              0     Yes        Yes      11           No   \n",
       "5984   7041    Male              1     Yes         No       4          Yes   \n",
       "5985   7042    Male              0      No         No      66          Yes   \n",
       "\n",
       "         MultipleLines InternetService OnlineSecurity OnlineBackup  \\\n",
       "5981               Yes             DSL            Yes           No   \n",
       "5982               Yes     Fiber optic             No          Yes   \n",
       "5983  No phone service             DSL            Yes           No   \n",
       "5984               Yes     Fiber optic             No           No   \n",
       "5985                No     Fiber optic            Yes           No   \n",
       "\n",
       "     DeviceProtection TechSupport StreamingTV StreamingMovies        Contract  \\\n",
       "5981              Yes         Yes         Yes             Yes        One year   \n",
       "5982              Yes          No         Yes             Yes        One year   \n",
       "5983               No          No          No              No  Month-to-month   \n",
       "5984               No          No          No              No  Month-to-month   \n",
       "5985              Yes         Yes         Yes             Yes        Two year   \n",
       "\n",
       "     PaperlessBilling              PaymentMethod  MonthlyCharges  TotalCharges  \n",
       "5981              Yes               Mailed check           84.80       1990.50  \n",
       "5982              Yes    Credit card (automatic)          103.20       7362.90  \n",
       "5983              Yes           Electronic check           29.60        346.45  \n",
       "5984              Yes               Mailed check           74.40        306.60  \n",
       "5985              Yes  Bank transfer (automatic)          105.65       6844.50  "
      ]
     },
     "execution_count": 2,
     "metadata": {},
     "output_type": "execute_result"
    }
   ],
   "source": [
    "#Loading data\n",
    "data = pd.read_csv('telecom_users.csv', index_col=0, parse_dates = True )\n",
    "data.sort_index(inplace=True)\n",
    "data.reset_index(inplace=True)\n",
    "#Moving target in a separate variable and replace Yes and No with 1 and 0 respectively\n",
    "targets = (data.Churn == 'Yes' ).astype(int)\n",
    "data.drop('Churn',axis=1, inplace=True)\n",
    "data.drop('customerID',axis=1, inplace=True)\n",
    "#Replace empty string with 0 in TotalCharges\n",
    "data['TotalCharges'].replace(' ',0,inplace= True)\n",
    "data.TotalCharges = data.TotalCharges.astype(float,)\n",
    "#Performing data output\n",
    "data_original = data.copy()\n",
    "data.tail()"
   ]
  },
  {
   "cell_type": "code",
   "execution_count": 3,
   "metadata": {},
   "outputs": [
    {
     "name": "stdout",
     "output_type": "stream",
     "text": [
      "The churn percentage is -  26.51%\n"
     ]
    }
   ],
   "source": [
    "#Customer churn percent\n",
    "print(f'The churn percentage is -  {round(targets.values.sum()/len(targets)*100,2)}%')"
   ]
  },
  {
   "cell_type": "code",
   "execution_count": 4,
   "metadata": {},
   "outputs": [],
   "source": [
    "#Perform data preparation. To do this, we convert all values to numerical forms\n",
    "#Replace binary data with 0 and 1\n",
    "gender = {'Male':0 , 'Female':1,}\n",
    "yes_no = {'Yes':1 , 'No':0,}\n",
    "\n",
    "data.gender.replace(gender,inplace= True)\n",
    "data['Partner'].replace(yes_no,inplace= True)\n",
    "data['Dependents'].replace(yes_no,inplace= True)\n",
    "data['PhoneService'].replace(yes_no,inplace= True)\n",
    "data['PaperlessBilling'].replace(yes_no,inplace= True)\n",
    "\n",
    "#Part of the data contains 3 typical values, but in fact, given the other data, they can be converted to binary\n",
    "yes_no_no = {'Yes':1 , 'No':0, 'No internet service' : 0 ,'No phone service' : 0,}\n",
    "data['MultipleLines'].replace(yes_no_no,inplace= True)\n",
    "data['OnlineSecurity'].replace(yes_no_no,inplace= True)\n",
    "data['OnlineBackup'].replace(yes_no_no,inplace= True)\n",
    "data['DeviceProtection'].replace(yes_no_no,inplace= True)\n",
    "data['TechSupport'].replace(yes_no_no,inplace= True)\n",
    "data['StreamingTV'].replace(yes_no_no,inplace= True)\n",
    "data['StreamingMovies'].replace(yes_no_no,inplace= True)"
   ]
  },
  {
   "cell_type": "code",
   "execution_count": 5,
   "metadata": {},
   "outputs": [],
   "source": [
    "#For other data with multiple values, used OneHotEncoder\n",
    "from sklearn.preprocessing import OneHotEncoder\n",
    "onehot = OneHotEncoder(dtype = int, sparse=True)\n",
    "data_onehot = pd.DataFrame(\n",
    "    onehot.fit_transform(data[['InternetService', 'Contract', 'PaymentMethod']])\\\n",
    "    .toarray(),\n",
    "    columns=['DSL','Fiber_optic','No_InternetService' , 'Month_to_month','One_year', \\\n",
    "             'Two_year','Bank_transfer','Credit_card','Electronic_check', 'Mailed_check',])"
   ]
  },
  {
   "cell_type": "code",
   "execution_count": 6,
   "metadata": {},
   "outputs": [
    {
     "name": "stdout",
     "output_type": "stream",
     "text": [
      "<class 'pandas.core.frame.DataFrame'>\n",
      "RangeIndex: 5986 entries, 0 to 5985\n",
      "Data columns (total 10 columns):\n",
      " #   Column              Non-Null Count  Dtype\n",
      "---  ------              --------------  -----\n",
      " 0   DSL                 5986 non-null   int64\n",
      " 1   Fiber_optic         5986 non-null   int64\n",
      " 2   No_InternetService  5986 non-null   int64\n",
      " 3   Month_to_month      5986 non-null   int64\n",
      " 4   One_year            5986 non-null   int64\n",
      " 5   Two_year            5986 non-null   int64\n",
      " 6   Bank_transfer       5986 non-null   int64\n",
      " 7   Credit_card         5986 non-null   int64\n",
      " 8   Electronic_check    5986 non-null   int64\n",
      " 9   Mailed_check        5986 non-null   int64\n",
      "dtypes: int64(10)\n",
      "memory usage: 467.8 KB\n"
     ]
    }
   ],
   "source": [
    "data_onehot.info()"
   ]
  },
  {
   "cell_type": "code",
   "execution_count": 7,
   "metadata": {},
   "outputs": [],
   "source": [
    "#Dropping unwanted columns\n",
    "data.drop(['InternetService', 'Contract', 'PaymentMethod'], axis = 1 ,inplace=True)"
   ]
  },
  {
   "cell_type": "code",
   "execution_count": 8,
   "metadata": {},
   "outputs": [
    {
     "data": {
      "text/html": [
       "<div>\n",
       "<style scoped>\n",
       "    .dataframe tbody tr th:only-of-type {\n",
       "        vertical-align: middle;\n",
       "    }\n",
       "\n",
       "    .dataframe tbody tr th {\n",
       "        vertical-align: top;\n",
       "    }\n",
       "\n",
       "    .dataframe thead th {\n",
       "        text-align: right;\n",
       "    }\n",
       "</style>\n",
       "<table border=\"1\" class=\"dataframe\">\n",
       "  <thead>\n",
       "    <tr style=\"text-align: right;\">\n",
       "      <th></th>\n",
       "      <th>index</th>\n",
       "      <th>gender</th>\n",
       "      <th>SeniorCitizen</th>\n",
       "      <th>Partner</th>\n",
       "      <th>Dependents</th>\n",
       "      <th>tenure</th>\n",
       "      <th>PhoneService</th>\n",
       "      <th>MultipleLines</th>\n",
       "      <th>OnlineSecurity</th>\n",
       "      <th>OnlineBackup</th>\n",
       "      <th>...</th>\n",
       "      <th>Fiber_optic</th>\n",
       "      <th>No_InternetService</th>\n",
       "      <th>Month_to_month</th>\n",
       "      <th>One_year</th>\n",
       "      <th>Two_year</th>\n",
       "      <th>Bank_transfer</th>\n",
       "      <th>Credit_card</th>\n",
       "      <th>Electronic_check</th>\n",
       "      <th>Mailed_check</th>\n",
       "      <th>Churn</th>\n",
       "    </tr>\n",
       "  </thead>\n",
       "  <tbody>\n",
       "    <tr>\n",
       "      <th>0</th>\n",
       "      <td>0</td>\n",
       "      <td>1</td>\n",
       "      <td>0</td>\n",
       "      <td>1</td>\n",
       "      <td>0</td>\n",
       "      <td>1</td>\n",
       "      <td>0</td>\n",
       "      <td>0</td>\n",
       "      <td>0</td>\n",
       "      <td>1</td>\n",
       "      <td>...</td>\n",
       "      <td>0</td>\n",
       "      <td>0</td>\n",
       "      <td>1</td>\n",
       "      <td>0</td>\n",
       "      <td>0</td>\n",
       "      <td>0</td>\n",
       "      <td>0</td>\n",
       "      <td>1</td>\n",
       "      <td>0</td>\n",
       "      <td>0</td>\n",
       "    </tr>\n",
       "    <tr>\n",
       "      <th>1</th>\n",
       "      <td>1</td>\n",
       "      <td>0</td>\n",
       "      <td>0</td>\n",
       "      <td>0</td>\n",
       "      <td>0</td>\n",
       "      <td>34</td>\n",
       "      <td>1</td>\n",
       "      <td>0</td>\n",
       "      <td>1</td>\n",
       "      <td>0</td>\n",
       "      <td>...</td>\n",
       "      <td>0</td>\n",
       "      <td>0</td>\n",
       "      <td>0</td>\n",
       "      <td>1</td>\n",
       "      <td>0</td>\n",
       "      <td>0</td>\n",
       "      <td>0</td>\n",
       "      <td>0</td>\n",
       "      <td>1</td>\n",
       "      <td>0</td>\n",
       "    </tr>\n",
       "    <tr>\n",
       "      <th>2</th>\n",
       "      <td>2</td>\n",
       "      <td>0</td>\n",
       "      <td>0</td>\n",
       "      <td>0</td>\n",
       "      <td>0</td>\n",
       "      <td>2</td>\n",
       "      <td>1</td>\n",
       "      <td>0</td>\n",
       "      <td>1</td>\n",
       "      <td>1</td>\n",
       "      <td>...</td>\n",
       "      <td>0</td>\n",
       "      <td>0</td>\n",
       "      <td>1</td>\n",
       "      <td>0</td>\n",
       "      <td>0</td>\n",
       "      <td>0</td>\n",
       "      <td>0</td>\n",
       "      <td>0</td>\n",
       "      <td>1</td>\n",
       "      <td>1</td>\n",
       "    </tr>\n",
       "    <tr>\n",
       "      <th>3</th>\n",
       "      <td>3</td>\n",
       "      <td>0</td>\n",
       "      <td>0</td>\n",
       "      <td>0</td>\n",
       "      <td>0</td>\n",
       "      <td>45</td>\n",
       "      <td>0</td>\n",
       "      <td>0</td>\n",
       "      <td>1</td>\n",
       "      <td>0</td>\n",
       "      <td>...</td>\n",
       "      <td>0</td>\n",
       "      <td>0</td>\n",
       "      <td>0</td>\n",
       "      <td>1</td>\n",
       "      <td>0</td>\n",
       "      <td>1</td>\n",
       "      <td>0</td>\n",
       "      <td>0</td>\n",
       "      <td>0</td>\n",
       "      <td>0</td>\n",
       "    </tr>\n",
       "    <tr>\n",
       "      <th>4</th>\n",
       "      <td>4</td>\n",
       "      <td>1</td>\n",
       "      <td>0</td>\n",
       "      <td>0</td>\n",
       "      <td>0</td>\n",
       "      <td>2</td>\n",
       "      <td>1</td>\n",
       "      <td>0</td>\n",
       "      <td>0</td>\n",
       "      <td>0</td>\n",
       "      <td>...</td>\n",
       "      <td>1</td>\n",
       "      <td>0</td>\n",
       "      <td>1</td>\n",
       "      <td>0</td>\n",
       "      <td>0</td>\n",
       "      <td>0</td>\n",
       "      <td>0</td>\n",
       "      <td>1</td>\n",
       "      <td>0</td>\n",
       "      <td>1</td>\n",
       "    </tr>\n",
       "  </tbody>\n",
       "</table>\n",
       "<p>5 rows × 28 columns</p>\n",
       "</div>"
      ],
      "text/plain": [
       "   index  gender  SeniorCitizen  Partner  Dependents  tenure  PhoneService  \\\n",
       "0      0       1              0        1           0       1             0   \n",
       "1      1       0              0        0           0      34             1   \n",
       "2      2       0              0        0           0       2             1   \n",
       "3      3       0              0        0           0      45             0   \n",
       "4      4       1              0        0           0       2             1   \n",
       "\n",
       "   MultipleLines  OnlineSecurity  OnlineBackup  ...  Fiber_optic  \\\n",
       "0              0               0             1  ...            0   \n",
       "1              0               1             0  ...            0   \n",
       "2              0               1             1  ...            0   \n",
       "3              0               1             0  ...            0   \n",
       "4              0               0             0  ...            1   \n",
       "\n",
       "   No_InternetService  Month_to_month  One_year  Two_year  Bank_transfer  \\\n",
       "0                   0               1         0         0              0   \n",
       "1                   0               0         1         0              0   \n",
       "2                   0               1         0         0              0   \n",
       "3                   0               0         1         0              1   \n",
       "4                   0               1         0         0              0   \n",
       "\n",
       "   Credit_card  Electronic_check  Mailed_check  Churn  \n",
       "0            0                 1             0      0  \n",
       "1            0                 0             1      0  \n",
       "2            0                 0             1      1  \n",
       "3            0                 0             0      0  \n",
       "4            0                 1             0      1  \n",
       "\n",
       "[5 rows x 28 columns]"
      ]
     },
     "execution_count": 8,
     "metadata": {},
     "output_type": "execute_result"
    }
   ],
   "source": [
    "#Prepare the final DataFrame for work\n",
    "features = pd.merge(data,data_onehot,how='inner',left_index = True, right_index=True)\n",
    "features['Churn'] = targets\n",
    "features[['OnlineSecurity' ,'OnlineBackup', 'DeviceProtection', 'TechSupport','StreamingTV', \\\n",
    "        'StreamingMovies']] = features[['OnlineSecurity' ,'OnlineBackup','DeviceProtection',\\\n",
    "        'TechSupport','StreamingTV','StreamingMovies']].astype(int)\n",
    "\n",
    "features.head()"
   ]
  },
  {
   "cell_type": "code",
   "execution_count": 9,
   "metadata": {},
   "outputs": [
    {
     "name": "stdout",
     "output_type": "stream",
     "text": [
      "<class 'pandas.core.frame.DataFrame'>\n",
      "RangeIndex: 5986 entries, 0 to 5985\n",
      "Data columns (total 28 columns):\n",
      " #   Column              Non-Null Count  Dtype  \n",
      "---  ------              --------------  -----  \n",
      " 0   index               5986 non-null   int64  \n",
      " 1   gender              5986 non-null   int64  \n",
      " 2   SeniorCitizen       5986 non-null   int64  \n",
      " 3   Partner             5986 non-null   int64  \n",
      " 4   Dependents          5986 non-null   int64  \n",
      " 5   tenure              5986 non-null   int64  \n",
      " 6   PhoneService        5986 non-null   int64  \n",
      " 7   MultipleLines       5986 non-null   int64  \n",
      " 8   OnlineSecurity      5986 non-null   int64  \n",
      " 9   OnlineBackup        5986 non-null   int64  \n",
      " 10  DeviceProtection    5986 non-null   int64  \n",
      " 11  TechSupport         5986 non-null   int64  \n",
      " 12  StreamingTV         5986 non-null   int64  \n",
      " 13  StreamingMovies     5986 non-null   int64  \n",
      " 14  PaperlessBilling    5986 non-null   int64  \n",
      " 15  MonthlyCharges      5986 non-null   float64\n",
      " 16  TotalCharges        5986 non-null   float64\n",
      " 17  DSL                 5986 non-null   int64  \n",
      " 18  Fiber_optic         5986 non-null   int64  \n",
      " 19  No_InternetService  5986 non-null   int64  \n",
      " 20  Month_to_month      5986 non-null   int64  \n",
      " 21  One_year            5986 non-null   int64  \n",
      " 22  Two_year            5986 non-null   int64  \n",
      " 23  Bank_transfer       5986 non-null   int64  \n",
      " 24  Credit_card         5986 non-null   int64  \n",
      " 25  Electronic_check    5986 non-null   int64  \n",
      " 26  Mailed_check        5986 non-null   int64  \n",
      " 27  Churn               5986 non-null   int64  \n",
      "dtypes: float64(2), int64(26)\n",
      "memory usage: 1.3 MB\n"
     ]
    }
   ],
   "source": [
    "#data info\n",
    "features.info()"
   ]
  },
  {
   "cell_type": "code",
   "execution_count": 10,
   "metadata": {},
   "outputs": [],
   "source": [
    "#Function that allows you to display basic statistics\n",
    "def my_statistics(ncol):\n",
    "    '''Calculate statistics by column'''\n",
    "    if ncol.name in ['tenure','MonthlyCharges','TotalCharges']:\n",
    "        describe = ncol.describe().to_dict()\n",
    "        result = ['  '+i + '  ' + str(describe[i])[:4]+',' for i in describe]\n",
    "        result_str = result[1]+result[2]+result[3]+result[5]+result[7]\n",
    "        print(f'{ncol.name} : {result_str[:-1]}' )\n",
    "    else :\n",
    "        #Churn percentage\n",
    "        print(f'{ncol.name} is -  {round(ncol.sum()/len(ncol)*100,ndigits=2)}%')\n",
    "    pass"
   ]
  },
  {
   "cell_type": "code",
   "execution_count": 11,
   "metadata": {},
   "outputs": [
    {
     "name": "stdout",
     "output_type": "stream",
     "text": [
      "index is -  353356.13%\n",
      "gender is -  49.05%\n",
      "SeniorCitizen is -  16.14%\n",
      "Partner is -  48.51%\n",
      "Dependents is -  29.92%\n",
      "tenure :   mean  32.4,  std  24.5,  min  0.0,  50%  29.0,  max  72.0\n",
      "PhoneService is -  90.14%\n",
      "MultipleLines is -  42.57%\n",
      "OnlineSecurity is -  28.62%\n",
      "OnlineBackup is -  34.91%\n",
      "DeviceProtection is -  34.33%\n",
      "TechSupport is -  28.98%\n",
      "StreamingTV is -  38.52%\n",
      "StreamingMovies is -  39.07%\n",
      "PaperlessBilling is -  58.94%\n",
      "MonthlyCharges :   mean  64.8,  std  30.1,  min  18.2,  50%  70.4,  max  118.\n",
      "TotalCharges :   mean  2294,  std  2274,  min  0.0,  50%  1408,  max  8684\n",
      "DSL is -  34.55%\n",
      "Fiber_optic is -  43.89%\n",
      "No_InternetService is -  21.57%\n",
      "Month_to_month is -  54.61%\n",
      "One_year is -  21.32%\n",
      "Two_year is -  24.07%\n",
      "Bank_transfer is -  21.85%\n",
      "Credit_card is -  21.77%\n",
      "Electronic_check is -  33.51%\n",
      "Mailed_check is -  22.87%\n",
      "Churn is -  26.51%\n"
     ]
    }
   ],
   "source": [
    "#Distribution of categorical features\n",
    "for i in features.columns:\n",
    "    my_statistics(features[i])"
   ]
  },
  {
   "cell_type": "code",
   "execution_count": 12,
   "metadata": {},
   "outputs": [
    {
     "data": {
      "image/png": "[encoded data removed]",
      "text/plain": [
       "<Figure size 1368x216 with 3 Axes>"
      ]
     },
     "metadata": {
      "needs_background": "light"
     },
     "output_type": "display_data"
    }
   ],
   "source": [
    "#Distribution of numerical features\n",
    "fig, plot = plt.subplots(nrows=1,ncols=3)\n",
    "fig.set_figwidth(19)    \n",
    "fig.set_figheight(3)\n",
    "\n",
    "plot[0].hist(features.tenure.values, alpha = 0.1, color = 'r')\n",
    "plot[0].set_title(features.tenure.name)\n",
    "plot[0].set_ylabel('Number of people')    \n",
    "plot[0].set_xlabel('Number of months')\n",
    "\n",
    "plot[1].hist(features.MonthlyCharges.values, alpha = 0.1, color = 'g')\n",
    "plot[1].set_title(features.MonthlyCharges.name)\n",
    "plot[1].set_ylabel('Number of people')    \n",
    "plot[1].set_xlabel('Monthly payment')\n",
    "\n",
    "plot[2].hist(features.TotalCharges.values, alpha = 0.1, color = 'b')\n",
    "plot[2].set_title(features.TotalCharges.name)\n",
    "plot[2].set_ylabel('Number of people')    \n",
    "plot[2].set_xlabel('Total amount,')\n",
    "\n",
    "plt.show()"
   ]
  },
  {
   "cell_type": "markdown",
   "metadata": {
    "colab_type": "text",
    "id": "TDUhZEKyVYSN"
   },
   "source": [
    "# 2. Exploring dependencies and formulating hypotheses"
   ]
  },
  {
   "cell_type": "markdown",
   "metadata": {},
   "source": [
    "Distribution of users from the number of months that a person has been a client of the company"
   ]
  },
  {
   "cell_type": "code",
   "execution_count": 13,
   "metadata": {},
   "outputs": [
    {
     "data": {
      "image/png": "[encoded data removed]",
      "text/plain": [
       "<Figure size 720x216 with 1 Axes>"
      ]
     },
     "metadata": {
      "needs_background": "light"
     },
     "output_type": "display_data"
    }
   ],
   "source": [
    "#Histogram distribution of users from the number of months that a person has been a client of the company\n",
    "fig, plot = plt.subplots()\n",
    "fig.set_figwidth(10)    \n",
    "fig.set_figheight(3)\n",
    "\n",
    "plot.hist(x = [features[(targets == 1)].tenure.values,features[(targets == 0)].tenure.values], \n",
    "          alpha=0.5,bins=72, histtype='barstacked', label = ['Churn  - True','Churn  - False'] )\n",
    "plt.title('Distribution of users from the number of months that a person has been a client of the company')\n",
    "plt.legend()\n",
    "plt.show()"
   ]
  },
  {
   "cell_type": "markdown",
   "metadata": {},
   "source": []
  },
  {
   "cell_type": "code",
   "execution_count": 14,
   "metadata": {},
   "outputs": [
    {
     "data": {
      "image/png": "[encoded data removed]",
      "text/plain": [
       "<Figure size 720x216 with 1 Axes>"
      ]
     },
     "metadata": {
      "needs_background": "light"
     },
     "output_type": "display_data"
    }
   ],
   "source": [
    "#Histogram distribution of user churn from monthly payment to date\n",
    "fig, plot = plt.subplots()\n",
    "fig.set_figwidth(10)    \n",
    "fig.set_figheight(3)\n",
    "\n",
    "plot.hist(x = [features[(targets == 1)].MonthlyCharges.values,features[(targets == 0)].MonthlyCharges.values], \n",
    "          alpha=0.5,bins=72, histtype='barstacked', label = ['Churn  - True','Churn  - False'] )\n",
    "plt.title('Distribution of user churn from monthly payment to date')\n",
    "plt.legend()\n",
    "plt.show()"
   ]
  },
  {
   "cell_type": "markdown",
   "metadata": {},
   "source": [
    "Since the rest of the features are binary, for them we simply consider the correlation relative to the target"
   ]
  },
  {
   "cell_type": "code",
   "execution_count": 15,
   "metadata": {
    "colab": {},
    "colab_type": "code",
    "id": "lbekxt4hVYSQ"
   },
   "outputs": [
    {
     "data": {
      "text/plain": [
       "index                 0.006630\n",
       "gender                0.009548\n",
       "SeniorCitizen         0.150097\n",
       "Partner              -0.146840\n",
       "Dependents           -0.160204\n",
       "tenure               -0.348469\n",
       "PhoneService          0.009421\n",
       "MultipleLines         0.036342\n",
       "OnlineSecurity       -0.174301\n",
       "OnlineBackup         -0.082648\n",
       "DeviceProtection     -0.070000\n",
       "TechSupport          -0.161821\n",
       "StreamingTV           0.060379\n",
       "StreamingMovies       0.058865\n",
       "PaperlessBilling      0.188996\n",
       "MonthlyCharges        0.186753\n",
       "TotalCharges         -0.196390\n",
       "DSL                  -0.120394\n",
       "Fiber_optic           0.300898\n",
       "No_InternetService   -0.223860\n",
       "Month_to_month        0.403907\n",
       "One_year             -0.175855\n",
       "Two_year             -0.301906\n",
       "Bank_transfer        -0.112447\n",
       "Credit_card          -0.135232\n",
       "Electronic_check      0.296803\n",
       "Mailed_check         -0.090066\n",
       "Churn                 1.000000\n",
       "Name: Churn, dtype: float64"
      ]
     },
     "execution_count": 15,
     "metadata": {},
     "output_type": "execute_result"
    }
   ],
   "source": [
    "#consider the correlation relative to the target\n",
    "cor = features.corr()['Churn']\n",
    "cor"
   ]
  },
  {
   "cell_type": "markdown",
   "metadata": {
    "colab_type": "text",
    "id": "YnZrI40dVYSZ"
   },
   "source": [
    "# 3. Building Models to Predict Churn"
   ]
  },
  {
   "cell_type": "code",
   "execution_count": 16,
   "metadata": {
    "colab": {},
    "colab_type": "code",
    "id": "wwrrkx8pVYSa"
   },
   "outputs": [],
   "source": [
    "import warnings\n",
    "warnings.filterwarnings('ignore')\n",
    "\n",
    "#Importing  the necessary libraries\n",
    "from sklearn.metrics import f1_score, recall_score, accuracy_score,roc_auc_score\n",
    "from sklearn.model_selection import train_test_split\n",
    "from sklearn.model_selection import GridSearchCV\n",
    "from sklearn.svm import SVC\n",
    "from sklearn.ensemble import RandomForestClassifier\n",
    "from sklearn.neighbors import KNeighborsClassifier\n",
    "from sklearn.linear_model import LogisticRegression\n",
    "from sklearn.naive_bayes import GaussianNB\n",
    "from sklearn import svm\n",
    "\n",
    "#Setting random_seed\n",
    "SEED = 37\n",
    "np.random.seed = 37\n",
    "np.seed = 37\n",
    "\n",
    "#Separating the data into train and test\n",
    "X, x_test, y, y_test = train_test_split(features.iloc[:,:-1],features.Churn, random_state=SEED,)"
   ]
  },
  {
   "cell_type": "code",
   "execution_count": 17,
   "metadata": {},
   "outputs": [
    {
     "name": "stdout",
     "output_type": "stream",
     "text": [
      "Score  : 0.555963581041407\n",
      "Model: \n",
      "RandomForestClassifier(max_depth=7, random_state=37)\n"
     ]
    }
   ],
   "source": [
    "#GridSearchCV and RandomForestClassifier\n",
    "parameters = {'max_depth':[2,3,4,5,6,7],} \n",
    "svc = RandomForestClassifier(random_state = SEED)\n",
    "clf = GridSearchCV(svc, parameters, return_train_score=True, scoring = 'f1')\n",
    "clf.fit(X, y, )\n",
    "\n",
    "RandomForest = clf.best_estimator_\n",
    "print(f'Score  : {clf.best_score_}')\n",
    "print(f'Model: \\n{RandomForest}')"
   ]
  },
  {
   "cell_type": "code",
   "execution_count": 18,
   "metadata": {},
   "outputs": [
    {
     "name": "stdout",
     "output_type": "stream",
     "text": [
      "Score  : 0.0\n",
      "Model: \n",
      "SVC(C=1, random_state=37)\n"
     ]
    }
   ],
   "source": [
    "#GridSearchCV and SVC\n",
    "parameters = {'C':[0,1,5,10], }\n",
    "svc =  SVC(random_state = SEED)\n",
    "clf = GridSearchCV(svc, parameters, return_train_score=True, scoring = 'f1')\n",
    "clf.fit(X, y, )\n",
    "\n",
    "Svc = clf.best_estimator_\n",
    "print(f'Score  : {clf.best_score_}')\n",
    "print(f'Model: \\n{Svc}')"
   ]
  },
  {
   "cell_type": "code",
   "execution_count": 19,
   "metadata": {},
   "outputs": [
    {
     "name": "stdout",
     "output_type": "stream",
     "text": [
      "Score  : 0.3291432725602567\n",
      "Model: \n",
      "KNeighborsClassifier()\n"
     ]
    }
   ],
   "source": [
    "#GridSearchCV and KNeighborsClassifie\n",
    "parameters = {'n_neighbors':[5,10,15,50,100],} \n",
    "svc =  KNeighborsClassifier()\n",
    "clf = GridSearchCV(svc, parameters, return_train_score=True, scoring = 'f1')\n",
    "clf.fit(X, y, )\n",
    "\n",
    "KNeighbors = clf.best_estimator_\n",
    "print(f'Score  : {clf.best_score_}')\n",
    "print(f'Model: \\n{KNeighbors}')"
   ]
  },
  {
   "cell_type": "code",
   "execution_count": 20,
   "metadata": {},
   "outputs": [
    {
     "name": "stdout",
     "output_type": "stream",
     "text": [
      "Score  : 0.5807331383755943\n",
      "Model: \n",
      "LogisticRegression(C=9, random_state=37)\n"
     ]
    }
   ],
   "source": [
    "#GridSearchCV and LogisticRegression\n",
    "parameters = parameters = {'C':list(range(1,21))}\n",
    "svc =  LogisticRegression(random_state = SEED)\n",
    "clf = GridSearchCV(svc, parameters,return_train_score=True,  scoring = 'f1')\n",
    "clf.fit(X, y, )\n",
    "\n",
    "Logistic = clf.best_estimator_\n",
    "print(f'Score  : {clf.best_score_}')\n",
    "print(f'Model: \\n{Logistic}')"
   ]
  },
  {
   "cell_type": "code",
   "execution_count": 21,
   "metadata": {},
   "outputs": [
    {
     "name": "stdout",
     "output_type": "stream",
     "text": [
      "Score  : 0.6165261166079656\n",
      "Model: \n",
      "GaussianNB()\n"
     ]
    }
   ],
   "source": [
    "#GridSearchCV and GaussianNB\n",
    "parameters = parameters = {}\n",
    "svc =  GaussianNB()\n",
    "clf = GridSearchCV(svc, parameters, return_train_score=True, scoring = 'f1')\n",
    "clf.fit(X, y, )\n",
    "\n",
    "Gaussian = clf.best_estimator_\n",
    "print(f'Score  : {clf.best_score_}')\n",
    "print(f'Model: \\n{Gaussian}')"
   ]
  },
  {
   "cell_type": "markdown",
   "metadata": {
    "colab_type": "text",
    "id": "uyDpeHkTVYSf"
   },
   "source": [
    "# 4. Model Quality Comparison in Test Data"
   ]
  },
  {
   "cell_type": "code",
   "execution_count": 22,
   "metadata": {},
   "outputs": [
    {
     "name": "stdout",
     "output_type": "stream",
     "text": [
      "Model:\n",
      " GaussianNB()\n",
      "accuracy     : 0.7341349365397462\n",
      "roc_auc      : 0.7491898875619806\n",
      "recall_score : 0.7803617571059431\n",
      "f1           : 0.6027944111776448\n"
     ]
    }
   ],
   "source": [
    "print (f'''Model:\\n {Gaussian}\n",
    "accuracy     : {accuracy_score(y_test, Gaussian.predict(x_test))}\n",
    "roc_auc      : {roc_auc_score(y_test, Gaussian.predict(x_test))}\n",
    "recall_score : {recall_score(y_test, Gaussian.predict(x_test))}\n",
    "f1           : {f1_score(y_test, Gaussian.predict(x_test))}''')"
   ]
  },
  {
   "cell_type": "code",
   "execution_count": 23,
   "metadata": {},
   "outputs": [
    {
     "name": "stdout",
     "output_type": "stream",
     "text": [
      "Model:\n",
      " RandomForestClassifier(max_depth=7, random_state=37)\n",
      "accuracy     : 0.8089512358049432\n",
      "roc_auc      : 0.7222187303582653\n",
      "recall_score : 0.5426356589147286\n",
      "f1           : 0.5949008498583569\n"
     ]
    }
   ],
   "source": [
    "print (f'''Model:\\n {RandomForest}\n",
    "accuracy     : {accuracy_score(y_test, RandomForest.predict(x_test))}\n",
    "roc_auc      : {roc_auc_score(y_test, RandomForest.predict(x_test))}\n",
    "recall_score : {recall_score(y_test, RandomForest.predict(x_test))}\n",
    "f1           : {f1_score(y_test, RandomForest.predict(x_test))}''')"
   ]
  },
  {
   "cell_type": "code",
   "execution_count": 24,
   "metadata": {},
   "outputs": [
    {
     "name": "stdout",
     "output_type": "stream",
     "text": [
      "Model:\n",
      " LogisticRegression(C=9, random_state=37)\n",
      "accuracy     : 0.8109552438209753\n",
      "roc_auc      : 0.7336685522732035\n",
      "recall_score : 0.5736434108527132\n",
      "f1           : 0.610729023383769\n"
     ]
    }
   ],
   "source": [
    "print (f'''Model:\\n {Logistic}\n",
    "accuracy     : {accuracy_score(y_test, Logistic.predict(x_test))}\n",
    "roc_auc      : {roc_auc_score(y_test, Logistic.predict(x_test))}\n",
    "recall_score : {recall_score(y_test, Logistic.predict(x_test))}\n",
    "f1           : {f1_score(y_test, Logistic.predict(x_test))}''')"
   ]
  },
  {
   "cell_type": "code",
   "execution_count": 25,
   "metadata": {},
   "outputs": [
    {
     "name": "stdout",
     "output_type": "stream",
     "text": [
      "Model:\n",
      " KNeighborsClassifier()\n",
      "accuracy     : 0.7181028724114896\n",
      "roc_auc      : 0.5709127732383545\n",
      "recall_score : 0.2661498708010336\n",
      "f1           : 0.3280254777070064\n"
     ]
    }
   ],
   "source": [
    "print (f'''Model:\\n {KNeighbors}\n",
    "accuracy     : {accuracy_score(y_test, KNeighbors.predict(x_test))}\n",
    "roc_auc      : {roc_auc_score(y_test, KNeighbors.predict(x_test))}\n",
    "recall_score : {recall_score(y_test, KNeighbors.predict(x_test))}\n",
    "f1           : {f1_score(y_test, KNeighbors.predict(x_test))}''')"
   ]
  },
  {
   "cell_type": "code",
   "execution_count": 26,
   "metadata": {},
   "outputs": [
    {
     "name": "stdout",
     "output_type": "stream",
     "text": [
      "Model:\n",
      " SVC(C=1, random_state=37)\n",
      "accuracy : 0.7414829659318637\n",
      "roc_auc : 0.5\n",
      "recall_score : 0.0\n",
      "f1 : 0.0\n"
     ]
    }
   ],
   "source": [
    "print (f'''Model:\\n {Svc}\n",
    "accuracy : {accuracy_score(y_test, Svc.predict(x_test))}\n",
    "roc_auc : {roc_auc_score(y_test, Svc.predict(x_test))}\n",
    "recall_score : {recall_score(y_test, Svc.predict(x_test))}\n",
    "f1 : {f1_score(y_test, Svc.predict(x_test))}''')"
   ]
  },
  {
   "cell_type": "markdown",
   "metadata": {},
   "source": [
    "### CatBoostClassifier\n",
    "____________"
   ]
  },
  {
   "cell_type": "code",
   "execution_count": 27,
   "metadata": {},
   "outputs": [],
   "source": [
    "from catboost import CatBoostClassifier"
   ]
  },
  {
   "cell_type": "code",
   "execution_count": 28,
   "metadata": {},
   "outputs": [
    {
     "name": "stdout",
     "output_type": "stream",
     "text": [
      "Best model:\n",
      " CatBoostClassifier\n",
      "accuracy : 0.8036072144288577\n",
      "roc_auc : 0.727030518890984\n",
      "recall_score : 0.5684754521963824\n",
      "f1 : 0.5994550408719346\n"
     ]
    }
   ],
   "source": [
    "# Initialize CatBoostClassifier\n",
    "model = CatBoostClassifier(iterations = 25,\n",
    "                           learning_rate = 1,\n",
    "                           use_best_model = True,                      \n",
    "                           depth=4,\n",
    "                           random_seed = 35,\n",
    "                           custom_metric = ['F1'])\n",
    "\n",
    "# Fit model\n",
    "model.fit(X, y,eval_set = (x_test,y_test),verbose=False)\n",
    "# Get predicted classes\n",
    "preds_class = model.predict(x_test)\n",
    "\n",
    "print (f'''Best model:\\n CatBoostClassifier\n",
    "accuracy : {accuracy_score(y_test, preds_class)}\n",
    "roc_auc : {roc_auc_score(y_test, preds_class)}\n",
    "recall_score : {recall_score(y_test, preds_class)}\n",
    "f1 : {f1_score(y_test, preds_class)}''')"
   ]
  },
  {
   "cell_type": "markdown",
   "metadata": {},
   "source": [
    "### Prediction with original data\n",
    "________"
   ]
  },
  {
   "cell_type": "code",
   "execution_count": 29,
   "metadata": {},
   "outputs": [
    {
     "name": "stdout",
     "output_type": "stream",
     "text": [
      "<class 'pandas.core.frame.DataFrame'>\n",
      "RangeIndex: 5986 entries, 0 to 5985\n",
      "Data columns (total 20 columns):\n",
      " #   Column            Non-Null Count  Dtype  \n",
      "---  ------            --------------  -----  \n",
      " 0   index             5986 non-null   int64  \n",
      " 1   gender            5986 non-null   object \n",
      " 2   SeniorCitizen     5986 non-null   int64  \n",
      " 3   Partner           5986 non-null   object \n",
      " 4   Dependents        5986 non-null   object \n",
      " 5   tenure            5986 non-null   int64  \n",
      " 6   PhoneService      5986 non-null   object \n",
      " 7   MultipleLines     5986 non-null   object \n",
      " 8   InternetService   5986 non-null   object \n",
      " 9   OnlineSecurity    5986 non-null   object \n",
      " 10  OnlineBackup      5986 non-null   object \n",
      " 11  DeviceProtection  5986 non-null   object \n",
      " 12  TechSupport       5986 non-null   object \n",
      " 13  StreamingTV       5986 non-null   object \n",
      " 14  StreamingMovies   5986 non-null   object \n",
      " 15  Contract          5986 non-null   object \n",
      " 16  PaperlessBilling  5986 non-null   object \n",
      " 17  PaymentMethod     5986 non-null   object \n",
      " 18  MonthlyCharges    5986 non-null   float64\n",
      " 19  TotalCharges      5986 non-null   float64\n",
      "dtypes: float64(2), int64(3), object(15)\n",
      "memory usage: 935.4+ KB\n"
     ]
    }
   ],
   "source": [
    "#data info\n",
    "data_original.info()"
   ]
  },
  {
   "cell_type": "code",
   "execution_count": 30,
   "metadata": {},
   "outputs": [],
   "source": [
    "#setting categorical features\n",
    "cat_features = [1,3,4,6,7,8,9,10,11,12,13,14,15,16,17,]"
   ]
  },
  {
   "cell_type": "code",
   "execution_count": 31,
   "metadata": {},
   "outputs": [],
   "source": [
    "#Separating the data into train and test\n",
    "X, x_test, y, y_test = train_test_split(data_original,targets,random_state=SEED,)"
   ]
  },
  {
   "cell_type": "code",
   "execution_count": 32,
   "metadata": {},
   "outputs": [
    {
     "name": "stdout",
     "output_type": "stream",
     "text": [
      "Best model:\n",
      " CatBoostClassifier\n",
      "accuracy : 0.8076152304609219\n",
      "roc_auc : 0.7280501431664222\n",
      "recall_score : 0.5633074935400517\n",
      "f1 : 0.6022099447513811\n",
      "\n"
     ]
    }
   ],
   "source": [
    "# Initialize CatBoostClassifier\n",
    "model = CatBoostClassifier(iterations = 25,\n",
    "                           learning_rate = 1,\n",
    "                           use_best_model = True,                      \n",
    "                           depth=4,\n",
    "                           random_seed = 37,\n",
    "                           custom_metric=['F1'])\n",
    "\n",
    "# Fit model\n",
    "model.fit(X, y,eval_set = (x_test,y_test), cat_features=cat_features,verbose=False)\n",
    "# Get predicted classes\n",
    "preds_class = model.predict(x_test)\n",
    "\n",
    "print(f'''Best model:\\n CatBoostClassifier\n",
    "accuracy : {accuracy_score(y_test, preds_class)}\n",
    "roc_auc : {roc_auc_score(y_test, preds_class)}\n",
    "recall_score : {recall_score(y_test, preds_class)}\n",
    "f1 : {f1_score(y_test, preds_class)}\n",
    "''')"
   ]
  }
 ],
 "metadata": {
  "colab": {
   "collapsed_sections": [],
   "name": "Coursework_ML.ipynb",
   "provenance": []
  },
  "kernelspec": {
   "display_name": "Python 3",
   "language": "python",
   "name": "python3"
  },
  "language_info": {
   "codemirror_mode": {
    "name": "ipython",
    "version": 3
   },
   "file_extension": ".py",
   "mimetype": "text/x-python",
   "name": "python",
   "nbconvert_exporter": "python",
   "pygments_lexer": "ipython3",
   "version": "3.8.8"
  }
 },
 "nbformat": 4,
 "nbformat_minor": 4
}
